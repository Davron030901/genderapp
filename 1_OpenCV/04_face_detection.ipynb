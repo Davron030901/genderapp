{
 "cells": [
  {
   "cell_type": "code",
   "execution_count": 11,
   "id": "fa602e61-c6ed-431e-8226-5f6c9e76adca",
   "metadata": {},
   "outputs": [],
   "source": [
    "import numpy as np\n",
    "import cv2"
   ]
  },
  {
   "cell_type": "code",
   "execution_count": 12,
   "id": "75c7a319-ddaf-464e-86a9-192d0f5b5623",
   "metadata": {},
   "outputs": [],
   "source": [
    "img=cv2.imread('./data/friends.jpg')\n",
    "\n",
    "cv2.imshow('image',img)\n",
    "cv2.waitKey(0)\n",
    "cv2.destroyAllWindows()"
   ]
  },
  {
   "cell_type": "code",
   "execution_count": 13,
   "id": "7359eb54-b957-4629-bee8-f76cafeef887",
   "metadata": {},
   "outputs": [],
   "source": [
    "# Load cascade classifier\n",
    "haar=cv2.CascadeClassifier('./data/haarcascade_frontalface_default.xml')"
   ]
  },
  {
   "cell_type": "code",
   "execution_count": 14,
   "id": "39e953d4-0d5a-462d-b4b2-b97888ffc526",
   "metadata": {},
   "outputs": [],
   "source": [
    "image=img.copy()\n",
    "# step-1:convert image to grayskale\n",
    "gray=cv2.cvtColor(img,cv2.COLOR_BGR2GRAY)\n",
    "# step-2: apply grayscale image to cascade classifier\n",
    "face_rect=haar.detectMultiScale(gray,1.3,5)\n",
    "# step-3:draw bounding box\n",
    "for x,y,w,h in face_rect: \n",
    "    cv2.rectangle(image,(x,y),(x+w,y+h),(0,255,0),2)\n",
    "\n",
    "cv2.imshow('detected facec',image)\n",
    "cv2.waitKey(0)\n",
    "cv2.destroyAllWindows()"
   ]
  },
  {
   "cell_type": "code",
   "execution_count": 15,
   "id": "5625bc33-4eba-44d4-b92d-dfa4ced1d1ae",
   "metadata": {},
   "outputs": [
    {
     "name": "stdout",
     "output_type": "stream",
     "text": [
      "[[256  88  98  98]\n",
      " [127 107  97  97]\n",
      " [405  90  99  99]]\n"
     ]
    }
   ],
   "source": [
    "print(face_rect)"
   ]
  },
  {
   "cell_type": "markdown",
   "id": "c19e59b7-89f2-483c-b894-1844a30bdd76",
   "metadata": {},
   "source": [
    "### Real Time Face Detection using OpenCV  "
   ]
  },
  {
   "cell_type": "code",
   "execution_count": 22,
   "id": "66b58d94-16ab-4b35-8bc9-54925d2bed1f",
   "metadata": {},
   "outputs": [],
   "source": [
    "cap =cv2.VideoCapture('./data/video.mp4')\n",
    "\n",
    "while True:\n",
    "    ret,frame=cap.read()\n",
    "    if ret==False:\n",
    "        break\n",
    "\n",
    "    image=frame.copy()\n",
    "    # step-1:convert image to grayskale\n",
    "    gray=cv2.cvtColor(image,cv2.COLOR_BGR2GRAY)\n",
    "    # step-2: apply grayscale image to cascade classifier\n",
    "    face_rect=haar.detectMultiScale(gray,1.3,5)\n",
    "    # step-3:draw bounding box\n",
    "    for x,y,w,h in face_rect: \n",
    "        cv2.rectangle(image,(x,y),(x+w,y+h),(0,255,0),2)\n",
    "        \n",
    "    cv2.imshow('face detection',image)\n",
    "\n",
    "    if cv2.waitKey(10)==27:\n",
    "        break\n",
    "\n",
    "cap.release()\n",
    "cv2.destroyAllWindows()"
   ]
  },
  {
   "cell_type": "code",
   "execution_count": null,
   "id": "c693bd1e-af3a-4bc5-876c-1006a9a1e9b5",
   "metadata": {},
   "outputs": [],
   "source": []
  }
 ],
 "metadata": {
  "kernelspec": {
   "display_name": "Python 3 (ipykernel)",
   "language": "python",
   "name": "python3"
  },
  "language_info": {
   "codemirror_mode": {
    "name": "ipython",
    "version": 3
   },
   "file_extension": ".py",
   "mimetype": "text/x-python",
   "name": "python",
   "nbconvert_exporter": "python",
   "pygments_lexer": "ipython3",
   "version": "3.12.7"
  }
 },
 "nbformat": 4,
 "nbformat_minor": 5
}
