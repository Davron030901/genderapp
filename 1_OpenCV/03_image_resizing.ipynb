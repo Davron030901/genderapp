{
 "cells": [
  {
   "cell_type": "markdown",
   "id": "8eba276e-c9e7-4398-b471-0f40a2741388",
   "metadata": {},
   "source": [
    "# Resize"
   ]
  },
  {
   "cell_type": "code",
   "execution_count": 1,
   "id": "407ac540-3b71-4680-b21d-06b25a4503ec",
   "metadata": {},
   "outputs": [],
   "source": [
    "import numpy as np\n",
    "import cv2"
   ]
  },
  {
   "cell_type": "code",
   "execution_count": 2,
   "id": "33e8c893-326d-401f-aa27-b07450fea7b6",
   "metadata": {},
   "outputs": [
    {
     "name": "stdout",
     "output_type": "stream",
     "text": [
      "(480, 640, 3)\n"
     ]
    }
   ],
   "source": [
    "# Loading image\n",
    "img=cv2.imread('./data/flying_bird.jpg')\n",
    "\n",
    "print(img.shape)\n",
    "cv2.imshow('original',img)\n",
    "cv2.waitKey(0)\n",
    "cv2.destroyAllWindows()"
   ]
  },
  {
   "cell_type": "markdown",
   "id": "bd2e561d-0f9e-4dab-b446-e7ea376ba872",
   "metadata": {},
   "source": [
    "### Task\n",
    "\n",
    "1.Shink the image\n",
    "\n",
    "2.Enlarge the image"
   ]
  },
  {
   "cell_type": "code",
   "execution_count": 3,
   "id": "74a14ff2-86d6-4edb-96eb-f8969074622b",
   "metadata": {},
   "outputs": [],
   "source": [
    "# Shinking image\n",
    "# width=columns,hight=rows\n",
    "img_shink=cv2.resize(img,dsize=(320,240),interpolation=cv2.INTER_AREA)\n",
    "\n",
    "# enLarge\n",
    "# cv2.INTER_CUBIC,cv2.INTER_LINEAR\n",
    "img_zoom=cv2.resize(img,dsize=(1280,960),interpolation=cv2.INTER_CUBIC)"
   ]
  },
  {
   "cell_type": "code",
   "execution_count": 4,
   "id": "6cc13ac8-e047-4ef4-8202-5fc7e2932ad7",
   "metadata": {},
   "outputs": [
    {
     "data": {
      "text/plain": [
       "((240, 320, 3), (960, 1280, 3))"
      ]
     },
     "execution_count": 4,
     "metadata": {},
     "output_type": "execute_result"
    }
   ],
   "source": [
    "img_shink.shape,img_zoom.shape"
   ]
  },
  {
   "cell_type": "code",
   "execution_count": 5,
   "id": "fe55ef1d-3799-46cc-b5fa-a6997a225545",
   "metadata": {},
   "outputs": [],
   "source": [
    "cv2.imshow('original',img)\n",
    "cv2.imshow('shink',img_shink)\n",
    "cv2.imshow('zoom',img_zoom)\n",
    "cv2.waitKey(0)\n",
    "cv2.destroyAllWindows()"
   ]
  }
 ],
 "metadata": {
  "kernelspec": {
   "display_name": "Python 3 (ipykernel)",
   "language": "python",
   "name": "python3"
  },
  "language_info": {
   "codemirror_mode": {
    "name": "ipython",
    "version": 3
   },
   "file_extension": ".py",
   "mimetype": "text/x-python",
   "name": "python",
   "nbconvert_exporter": "python",
   "pygments_lexer": "ipython3",
   "version": "3.12.7"
  }
 },
 "nbformat": 4,
 "nbformat_minor": 5
}
