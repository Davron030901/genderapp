{
 "cells": [
  {
   "cell_type": "code",
   "execution_count": 22,
   "id": "2d60a0e4-1588-468b-bdf7-9919f989c620",
   "metadata": {},
   "outputs": [],
   "source": [
    "import numpy as np\n",
    "import matplotlib.pyplot as plt"
   ]
  },
  {
   "cell_type": "markdown",
   "id": "2d254493-4621-4214-8da8-10671fcf8d3f",
   "metadata": {},
   "source": [
    "#0-(2^n-1)\n",
    "# if n=8,\n",
    "# (0,255).16X16"
   ]
  },
  {
   "cell_type": "code",
   "execution_count": 23,
   "id": "b0a0a003-1a27-4849-80b8-6d574f972aac",
   "metadata": {},
   "outputs": [
    {
     "name": "stdout",
     "output_type": "stream",
     "text": [
      "[  0   1   2   3   4   5   6   7   8   9  10  11  12  13  14  15  16  17\n",
      "  18  19  20  21  22  23  24  25  26  27  28  29  30  31  32  33  34  35\n",
      "  36  37  38  39  40  41  42  43  44  45  46  47  48  49  50  51  52  53\n",
      "  54  55  56  57  58  59  60  61  62  63  64  65  66  67  68  69  70  71\n",
      "  72  73  74  75  76  77  78  79  80  81  82  83  84  85  86  87  88  89\n",
      "  90  91  92  93  94  95  96  97  98  99 100 101 102 103 104 105 106 107\n",
      " 108 109 110 111 112 113 114 115 116 117 118 119 120 121 122 123 124 125\n",
      " 126 127 128 129 130 131 132 133 134 135 136 137 138 139 140 141 142 143\n",
      " 144 145 146 147 148 149 150 151 152 153 154 155 156 157 158 159 160 161\n",
      " 162 163 164 165 166 167 168 169 170 171 172 173 174 175 176 177 178 179\n",
      " 180 181 182 183 184 185 186 187 188 189 190 191 192 193 194 195 196 197\n",
      " 198 199 200 201 202 203 204 205 206 207 208 209 210 211 212 213 214 215\n",
      " 216 217 218 219 220 221 222 223 224 225 226 227 228 229 230 231 232 233\n",
      " 234 235 236 237 238 239 240 241 242 243 244 245 246 247 248 249 250 251\n",
      " 252 253 254 255]\n"
     ]
    }
   ],
   "source": [
    "arr=np.arange(0,256,1)\n",
    "print(arr)"
   ]
  },
  {
   "cell_type": "code",
   "execution_count": 24,
   "id": "d73af239-10b3-4bdd-b27d-5c98496567ae",
   "metadata": {},
   "outputs": [
    {
     "name": "stdout",
     "output_type": "stream",
     "text": [
      "[[  0   1   2   3   4   5   6   7   8   9  10  11  12  13  14  15]\n",
      " [ 16  17  18  19  20  21  22  23  24  25  26  27  28  29  30  31]\n",
      " [ 32  33  34  35  36  37  38  39  40  41  42  43  44  45  46  47]\n",
      " [ 48  49  50  51  52  53  54  55  56  57  58  59  60  61  62  63]\n",
      " [ 64  65  66  67  68  69  70  71  72  73  74  75  76  77  78  79]\n",
      " [ 80  81  82  83  84  85  86  87  88  89  90  91  92  93  94  95]\n",
      " [ 96  97  98  99 100 101 102 103 104 105 106 107 108 109 110 111]\n",
      " [112 113 114 115 116 117 118 119 120 121 122 123 124 125 126 127]\n",
      " [128 129 130 131 132 133 134 135 136 137 138 139 140 141 142 143]\n",
      " [144 145 146 147 148 149 150 151 152 153 154 155 156 157 158 159]\n",
      " [160 161 162 163 164 165 166 167 168 169 170 171 172 173 174 175]\n",
      " [176 177 178 179 180 181 182 183 184 185 186 187 188 189 190 191]\n",
      " [192 193 194 195 196 197 198 199 200 201 202 203 204 205 206 207]\n",
      " [208 209 210 211 212 213 214 215 216 217 218 219 220 221 222 223]\n",
      " [224 225 226 227 228 229 230 231 232 233 234 235 236 237 238 239]\n",
      " [240 241 242 243 244 245 246 247 248 249 250 251 252 253 254 255]]\n"
     ]
    }
   ],
   "source": [
    "arr=arr.reshape((16,16))\n",
    "print(arr)"
   ]
  },
  {
   "cell_type": "code",
   "execution_count": 27,
   "id": "75dd0ea0-51bc-4f63-b1ac-2d1a71123cd9",
   "metadata": {},
   "outputs": [],
   "source": [
    "arr_8bit=arr.astype(np.uint8)"
   ]
  },
  {
   "cell_type": "code",
   "execution_count": 28,
   "id": "6223707a-0d7a-48ad-8111-27e6ca60626f",
   "metadata": {},
   "outputs": [
    {
     "data": {
      "image/png": "[encoded data removed]",
      "text/plain": [
       "<Figure size 640x480 with 1 Axes>"
      ]
     },
     "metadata": {},
     "output_type": "display_data"
    }
   ],
   "source": [
    "plt.imshow(arr_8bit,cmap='gray')\n",
    "plt.axis('off')\n",
    "plt.show()"
   ]
  },
  {
   "cell_type": "markdown",
   "id": "5168c12f-66c1-4733-a7ea-1ab97ceadca4",
   "metadata": {},
   "source": [
    "# random matrix (16x16)"
   ]
  },
  {
   "cell_type": "code",
   "execution_count": 31,
   "id": "cb749e7b-8e55-4489-94c9-d695a6f010f4",
   "metadata": {},
   "outputs": [
    {
     "data": {
      "text/plain": [
       "(np.float64(-0.5), np.float64(15.5), np.float64(15.5), np.float64(-0.5))"
      ]
     },
     "execution_count": 31,
     "metadata": {},
     "output_type": "execute_result"
    },
    {
     "data": {
      "image/png": "[encoded data removed]",
      "text/plain": [
       "<Figure size 640x480 with 1 Axes>"
      ]
     },
     "metadata": {},
     "output_type": "display_data"
    }
   ],
   "source": [
    "arr1=np.random.randint(low=0,high=255,size=(16,16),dtype=np.uint8)\n",
    "plt.imshow(arr1,cmap='gray')\n",
    "plt.axis('off')\n",
    "# plt.show()"
   ]
  },
  {
   "cell_type": "code",
   "execution_count": 32,
   "id": "4a1772a0-2f3f-4257-8d26-61ce17ef78f4",
   "metadata": {},
   "outputs": [
    {
     "data": {
      "text/plain": [
       "array([[ 47, 188, 148, 246,   2, 225, 157, 224, 123,  79, 111, 137, 190,\n",
       "         85, 248, 117],\n",
       "       [253, 186, 226, 245,  41, 100, 200, 188,  16,  93, 205,  96, 220,\n",
       "         81, 239, 145],\n",
       "       [232, 253,  24, 243,  44, 162, 126, 149, 197,  71,  83, 237,  69,\n",
       "        158, 203,  73],\n",
       "       [ 34,   5, 116,  50, 121, 151,  70, 126,   3,  21,  52,  90,  91,\n",
       "         80, 145,   3],\n",
       "       [ 51, 238,  20, 157, 101, 180, 212,  34,  15,  92, 210, 109,  73,\n",
       "        160, 214,  57],\n",
       "       [199, 181,  28, 200, 230, 157, 183, 194, 239, 139,  66, 179,   5,\n",
       "        237, 211, 166],\n",
       "       [ 78, 120, 237,  45,   1, 108, 163, 161, 203, 240, 162, 225, 167,\n",
       "        237,  92,  69],\n",
       "       [ 80,  36, 241, 229,  19,  43, 243,  98,  97, 183, 150, 183, 133,\n",
       "        123,  76, 165],\n",
       "       [167, 139, 136,  27, 211,  12,  77, 183,  34, 107, 158, 164, 126,\n",
       "        229, 230, 221],\n",
       "       [182, 248,   7, 158, 234,  11,  82,  18, 193, 188,  13, 127, 153,\n",
       "        229, 249, 227],\n",
       "       [149, 172, 155,  21, 204, 228, 224, 212, 231, 236,  73, 249, 222,\n",
       "        212,  73, 115],\n",
       "       [ 93,  83, 203, 229, 242, 186, 150, 151,  13,  87, 192, 179, 217,\n",
       "        222, 135,  34],\n",
       "       [172, 148, 105, 140, 233,  43,  50, 148, 131, 142, 186, 126,  58,\n",
       "        103,  31,  19],\n",
       "       [186, 170,  84, 251, 203,   9,  55, 208,  64, 156, 117, 121, 140,\n",
       "         88, 208, 133],\n",
       "       [239,  66, 199,  98, 230, 128,  33, 170,  16, 218,  66,  34,  73,\n",
       "        135,  67, 119],\n",
       "       [ 64, 190,  15, 190, 193, 169, 164, 163, 166,  46, 207,  87,  32,\n",
       "         86, 209, 208]], dtype=uint8)"
      ]
     },
     "execution_count": 32,
     "metadata": {},
     "output_type": "execute_result"
    }
   ],
   "source": [
    "arr1"
   ]
  }
 ],
 "metadata": {
  "kernelspec": {
   "display_name": "Python 3 (ipykernel)",
   "language": "python",
   "name": "python3"
  },
  "language_info": {
   "codemirror_mode": {
    "name": "ipython",
    "version": 3
   },
   "file_extension": ".py",
   "mimetype": "text/x-python",
   "name": "python",
   "nbconvert_exporter": "python",
   "pygments_lexer": "ipython3",
   "version": "3.12.7"
  }
 },
 "nbformat": 4,
 "nbformat_minor": 5
}
